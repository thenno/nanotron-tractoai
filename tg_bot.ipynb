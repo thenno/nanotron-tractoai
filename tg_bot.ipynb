{
 "nbformat": 4,
 "metadata": {
  "notebook_cypress_id": "829a3c29-909c-4405-a5f0-8fc195d7d649"
 },
 "cells": [
  {
   "metadata": {},
   "cell_type": "raw",
   "source": [
    "{\n",
    "\t\"nbformat\": 4,\n",
    "\t\"metadata\": {\n",
    "\t\t\"notebook_cypress_id\": \"829a3c29-909c-4405-a5f0-8fc195d7d649\"\n",
    "\t},\n",
    "\t\"cells\": [\n",
    "\t\t{\n",
    "\t\t\t\"outputs\": [],\n",
    "\t\t\t\"metadata\": {\n",
    "\t\t\t\t\"cell_id\": \"85f78d96-f58f-401f-a388-b6f2bad9a641\"\n",
    "\t\t\t},\n",
    "\t\t\t\"cell_type\": \"code\",\n",
    "\t\t\t\"execution_count\": 1,\n",
    "\t\t\t\"source\": \"import requests\\nimport yt.wrapper as yt\\nimport time\\n\\nimport os\",\n",
    "\t\t\t\"id\": \"22c90119\"\n",
    "\t\t},\n",
    "\t\t{\n",
    "\t\t\t\"outputs\": [],\n",
    "\t\t\t\"metadata\": {\n",
    "\t\t\t\t\"cell_id\": \"5c9c7a19-dfb5-48ca-a910-4187d6f540c8\"\n",
    "\t\t\t},\n",
    "\t\t\t\"cell_type\": \"code\",\n",
    "\t\t\t\"execution_count\": 2,\n",
    "\t\t\t\"source\": \"tg_sec = os.environ[\\\"YT_SECURE_VAULT_TG_SEC\\\"]\",\n",
    "\t\t\t\"id\": \"ea51d86d\"\n",
    "\t\t},\n",
    "\t\t{\n",
    "\t\t\t\"outputs\": [],\n",
    "\t\t\t\"metadata\": {\n",
    "\t\t\t\t\"cell_id\": \"ab9fa782-eed5-441d-b36c-a9bc062415f4\"\n",
    "\t\t\t},\n",
    "\t\t\t\"cell_type\": \"code\",\n",
    "\t\t\t\"execution_count\": 3,\n",
    "\t\t\t\"source\": \"BASE_URL = f\\\"https://api.telegram.org/bot{tg_sec}\\\"\\nOPERATION_TITLE = \\\"pleias 1b\\\"\\nITER_TIMEOUT = 30\",\n",
    "\t\t\t\"id\": \"e98c25d4\"\n",
    "\t\t},\n",
    "\t\t{\n",
    "\t\t\t\"outputs\": [],\n",
    "\t\t\t\"metadata\": {\n",
    "\t\t\t\t\"cell_id\": \"6d1054af-b86d-4224-b100-2dac1f94cdc7\"\n",
    "\t\t\t},\n",
    "\t\t\t\"cell_type\": \"code\",\n",
    "\t\t\t\"execution_count\": 4,\n",
    "\t\t\t\"source\": \"def get_chat_ids() -> set:\\n    response = requests.get(\\n        f\\\"{BASE_URL}/getUpdates\\\",\\n    )\\n    response.raise_for_status()\\n    chat_ids = set()\\n    for message in response.json()[\\\"result\\\"]:\\n        chat_id = message[\\\"message\\\"][\\\"chat\\\"][\\\"id\\\"]\\n        chat_ids.add(chat_id)\\n    return chat_ids\\n\\n\\ndef is_op_valid(op_id):\\n    op_state = yt.get_operation_state(op_id)\\n    return not op_state.is_unsuccessfully_finished()\\n\\n\\ndef send_uvaga_message(chat_ids: set, message: str):\\n    url = f\\\"{BASE_URL}/sendMessage\\\"\\n    for chat_id in chat_ids:\\n        data = {\\n            \\\"chat_id\\\": chat_id,\\n            \\\"text\\\": message,\\n        }\\n        response = requests.post(url, data=data)\\n        response.raise_for_status()\\n\\n\\ndef save_chat_ids(chat_ids: set):\\n    with open(\\\"chat_ids\\\", \\\"w\\\") as f:\\n        f.write(\\\",\\\".join(map(str, chat_ids)))\\n\\n\\ndef save_error(e):\\n    with open(\\\"errors\\\", \\\"w\\\") as f:\\n        f.write(f\\\"{time.time()} {e}\\\")\\n\\n\\ndef get_training_operations():\\n    operation_ids = [operation[\\\"id\\\"] for operation in yt.list_operations(state=\\\"running\\\", filter=OPERATION_TITLE)[\\\"operations\\\"]]\\n    return operation_ids\",\n",
    "\t\t\t\"id\": \"90990344\"\n",
    "\t\t},\n",
    "\t\t{\n",
    "\t\t\t\"outputs\": [],\n",
    "\t\t\t\"metadata\": {\n",
    "\t\t\t\t\"cell_id\": \"e08443de-68dd-430b-9b4d-20b81279d7c0\"\n",
    "\t\t\t},\n",
    "\t\t\t\"cell_type\": \"code\",\n",
    "\t\t\t\"execution_count\": 5,\n",
    "\t\t\t\"source\": \"def main():\\n    chat_ids = set()\\n    operation_ids = get_training_operations()\\n    assert len(operation_ids) == 1\\n    \\n    operation_id = operation_ids[0]\\n    print(operation_id)\\n\\n    while True:\\n        try:\\n            new_chat_ids = get_chat_ids()\\n            chat_ids.update(new_chat_ids)\\n            save_chat_ids(chat_ids)\\n\\n            if not is_op_valid(operation_id):\\n                message = f\\\"Training https://charlie.yt.nebius.yt/charlie/operations/{operation_id}/details has been failed\\\"\\n                send_uvaga_message(chat_ids, message)\\n\\n                operation_ids = get_training_operations()\\n                if len(operation_ids) != 1:\\n                    send_uvaga_message(chat_ids, f\\\"There should be exactly 1 training operation, found {operation_ids}\\\")\\n                    continue\\n                operation_id = operation_ids[0]\\n                print(operation_id)\\n        except Exception as e:\\n            print(\\\"there is an error\\\", e)\\n            save_error(e)\\n        finally:\\n            time.sleep(ITER_TIMEOUT)\",\n",
    "\t\t\t\"id\": \"fa932f9f\"\n",
    "\t\t},\n",
    "\t\t{\n",
    "\t\t\t\"outputs\": [\n",
    "\t\t\t\t{\n",
    "\t\t\t\t\t\"name\": \"stdout\",\n",
    "\t\t\t\t\t\"output_type\": \"stream\",\n",
    "\t\t\t\t\t\"text\": \"2d2d9571-df145fc1-27ea03e8-96b27f2e\\n\"\n",
    "\t\t\t\t}\n",
    "\t\t\t],\n",
    "\t\t\t\"metadata\": {\n",
    "\t\t\t\t\"cell_id\": \"af32fcc1-e0d1-4b33-ae36-b0197c63b177\"\n",
    "\t\t\t},\n",
    "\t\t\t\"cell_type\": \"code\",\n",
    "\t\t\t\"execution_count\": 6,\n",
    "\t\t\t\"source\": \"main()\",\n",
    "\t\t\t\"id\": \"63ce4254\"\n",
    "\t\t}\n",
    "\t],\n",
    "\t\"nbformat_minor\": 5\n",
    "}\n"
   ],
   "id": "25ca6d54c9dbd0cb"
  },
  {
   "outputs": [],
   "metadata": {
    "cell_id": "5c9c7a19-dfb5-48ca-a910-4187d6f540c8"
   },
   "cell_type": "code",
   "execution_count": 2,
   "source": "tg_sec = os.environ[\"YT_SECURE_VAULT_TG_SEC\"]",
   "id": "ea51d86d"
  },
  {
   "outputs": [],
   "metadata": {
    "cell_id": "ab9fa782-eed5-441d-b36c-a9bc062415f4"
   },
   "cell_type": "code",
   "execution_count": 3,
   "source": "BASE_URL = f\"https://api.telegram.org/bot{tg_sec}\"\nOPERATION_TITLE = \"pleias 1b\"\nITER_TIMEOUT = 30",
   "id": "e98c25d4"
  },
  {
   "outputs": [],
   "metadata": {
    "cell_id": "6d1054af-b86d-4224-b100-2dac1f94cdc7"
   },
   "cell_type": "code",
   "execution_count": 4,
   "source": "def get_chat_ids() -> set:\n    response = requests.get(\n        f\"{BASE_URL}/getUpdates\",\n    )\n    response.raise_for_status()\n    chat_ids = set()\n    for message in response.json()[\"result\"]:\n        chat_id = message[\"message\"][\"chat\"][\"id\"]\n        chat_ids.add(chat_id)\n    return chat_ids\n\n\ndef is_op_valid(op_id):\n    op_state = yt.get_operation_state(op_id)\n    return not op_state.is_unsuccessfully_finished()\n\n\ndef send_uvaga_message(chat_ids: set, message: str):\n    url = f\"{BASE_URL}/sendMessage\"\n    for chat_id in chat_ids:\n        data = {\n            \"chat_id\": chat_id,\n            \"text\": message,\n        }\n        response = requests.post(url, data=data)\n        response.raise_for_status()\n\n\ndef save_chat_ids(chat_ids: set):\n    with open(\"chat_ids\", \"w\") as f:\n        f.write(\",\".join(map(str, chat_ids)))\n\n\ndef save_error(e):\n    with open(\"errors\", \"w\") as f:\n        f.write(f\"{time.time()} {e}\")\n\n\ndef get_training_operations():\n    operation_ids = [operation[\"id\"] for operation in yt.list_operations(state=\"running\", filter=OPERATION_TITLE)[\"operations\"]]\n    return operation_ids",
   "id": "90990344"
  },
  {
   "outputs": [],
   "metadata": {
    "cell_id": "e08443de-68dd-430b-9b4d-20b81279d7c0"
   },
   "cell_type": "code",
   "execution_count": 5,
   "source": "def main():\n    chat_ids = set()\n    operation_ids = get_training_operations()\n    assert len(operation_ids) == 1\n    \n    operation_id = operation_ids[0]\n    print(operation_id)\n\n    while True:\n        try:\n            new_chat_ids = get_chat_ids()\n            chat_ids.update(new_chat_ids)\n            save_chat_ids(chat_ids)\n\n            if not is_op_valid(operation_id):\n                message = f\"Training https://charlie.yt.nebius.yt/charlie/operations/{operation_id}/details has been failed\"\n                send_uvaga_message(chat_ids, message)\n\n                operation_ids = get_training_operations()\n                if len(operation_ids) != 1:\n                    send_uvaga_message(chat_ids, f\"There should be exactly 1 training operation, found {operation_ids}\")\n                    continue\n                operation_id = operation_ids[0]\n                print(operation_id)\n        except Exception as e:\n            print(\"there is an error\", e)\n            save_error(e)\n        finally:\n            time.sleep(ITER_TIMEOUT)",
   "id": "fa932f9f"
  },
  {
   "outputs": [
    {
     "name": "stdout",
     "output_type": "stream",
     "text": "2d2d9571-df145fc1-27ea03e8-96b27f2e\n"
    }
   ],
   "metadata": {
    "cell_id": "af32fcc1-e0d1-4b33-ae36-b0197c63b177"
   },
   "cell_type": "code",
   "execution_count": 6,
   "source": "main()",
   "id": "63ce4254"
  }
 ],
 "nbformat_minor": 5
}
